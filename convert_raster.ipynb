{
 "cells": [
  {
   "cell_type": "markdown",
   "metadata": {},
   "source": [
    "# GDAL raster format conversion and compression"
   ]
  },
  {
   "cell_type": "markdown",
   "metadata": {},
   "source": [
    "Author: Dennis W. Hallema\n",
    "\n",
    "Description: Script for raster to raster conversion and compression with GDAL.\n",
    "\n",
    "Depends: `gdal`\n",
    "\n",
    "Disclaimer: Use at your own risk. The authors cannot assure the reliability or suitability of these materials for a particular purpose. The act of distribution shall not constitute any such warranty, and no responsibility is assumed for a user's application of these materials or related materials."
   ]
  },
  {
   "cell_type": "code",
   "execution_count": null,
   "metadata": {},
   "outputs": [],
   "source": [
    "# Import modules\n",
    "from osgeo import gdal\n",
    "gdal.UseExceptions()\n",
    "gdal.AllRegister()"
   ]
  },
  {
   "cell_type": "code",
   "execution_count": null,
   "metadata": {},
   "outputs": [],
   "source": [
    "# Raster files to be converted\n",
    "rasters = [\n",
    "    'data/barrier.asc',\n",
    "    'data/costdist.asc',\n",
    "    'data/flatdist.asc',\n",
    "    'data/ridgedist.asc',\n",
    "    'data/valleydist.asc',\n",
    "    'data/roaddist.asc',\n",
    "    'data/ros01.asc',\n",
    "    'data/rtc01.asc',\n",
    "    'data/sdi01.asc',\n",
    "    'data/brt_resp_float.asc'\n",
    "    'data/brt_resp2.asc'\n",
    "]"
   ]
  },
  {
   "cell_type": "code",
   "execution_count": null,
   "metadata": {},
   "outputs": [],
   "source": [
    "# Convert raster files\n",
    "for i, raster in enumerate(rasters):\n",
    "    ds = gdal.Open(raster)\n",
    "    t_options = gdal.TranslateOptions(gdal.ParseCommandLine(\"-of Gtiff -co COMPRESS=LZW\"))\n",
    "    ds_out = raster.replace('.asc','.tif')\n",
    "    print('Writing {}'.format(ds_out))\n",
    "    ds = gdal.Translate(ds_out, ds, options=t_options)\n",
    "    ds = None\n",
    "print('Done')"
   ]
  }
 ],
 "metadata": {
  "kernelspec": {
   "display_name": "Python 3",
   "language": "python",
   "name": "python3"
  },
  "language_info": {
   "codemirror_mode": {
    "name": "ipython",
    "version": 3
   },
   "file_extension": ".py",
   "mimetype": "text/x-python",
   "name": "python",
   "nbconvert_exporter": "python",
   "pygments_lexer": "ipython3",
   "version": "3.7.4"
  }
 },
 "nbformat": 4,
 "nbformat_minor": 2
}
